{
 "cells": [
  {
   "cell_type": "code",
   "execution_count": null,
   "metadata": {
    "collapsed": true
   },
   "outputs": [],
   "source": [
    "# run from terminal: jupyter nbconvert --execute app.ipynb\n",
    "\n",
    "from datetime import datetime\n",
    "import charts\n",
    "from data_handler import data as dataframe\n",
    "from tweet_generator import api, tweet\n",
    "\n",
    "timestamp = datetime.now().strftime('%A %B %d,%Y   %I:%M%p')\n",
    "\n",
    "image_files = []\n",
    "for prd in ['year','week']:\n",
    "    image_files.append(charts.topn_requests_donut(dataframe, period=prd))\n",
    "image_files.append(charts.yearoveryear_reqeusts_volume(dataframe))\n",
    "\n",
    "tweet(api_object=api, files=image_files, msg=timestamp)"
   ]
  }
 ],
 "metadata": {
  "kernelspec": {
   "display_name": "Python 3",
   "language": "python",
   "name": "python3"
  },
  "language_info": {
   "codemirror_mode": {
    "name": "ipython",
    "version": 3
   },
   "file_extension": ".py",
   "mimetype": "text/x-python",
   "name": "python",
   "nbconvert_exporter": "python",
   "pygments_lexer": "ipython3",
   "version": "3.6.8"
  }
 },
 "nbformat": 4,
 "nbformat_minor": 2
}
